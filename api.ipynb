{
 "cells": [
  {
   "cell_type": "code",
   "execution_count": 2,
   "id": "2b5c0253-1b8b-421c-aa44-7f5a5046a5f1",
   "metadata": {},
   "outputs": [
    {
     "name": "stdout",
     "output_type": "stream",
     "text": [
      "{'dt': 1740204000, 'main': {'temp': 297.05, 'feels_like': 296.41, 'temp_min': 297.05, 'temp_max': 299.06, 'pressure': 1019, 'sea_level': 1019, 'grnd_level': 1015, 'humidity': 35, 'temp_kf': -2.01}, 'weather': [{'id': 800, 'main': 'Clear', 'description': 'clear sky', 'icon': '01d'}], 'clouds': {'all': 0}, 'wind': {'speed': 2.13, 'deg': 92, 'gust': 1.96}, 'visibility': 10000, 'pop': 0, 'sys': {'pod': 'd'}, 'dt_txt': '2025-02-22 06:00:00'}\n",
      "{'dt': 1740214800, 'main': {'temp': 298.44, 'feels_like': 297.83, 'temp_min': 298.44, 'temp_max': 301.21, 'pressure': 1018, 'sea_level': 1018, 'grnd_level': 1012, 'humidity': 31, 'temp_kf': -2.77}, 'weather': [{'id': 800, 'main': 'Clear', 'description': 'clear sky', 'icon': '01d'}], 'clouds': {'all': 0}, 'wind': {'speed': 3.12, 'deg': 207, 'gust': 2.29}, 'visibility': 10000, 'pop': 0, 'sys': {'pod': 'd'}, 'dt_txt': '2025-02-22 09:00:00'}\n",
      "{'dt': 1740225600, 'main': {'temp': 299.28, 'feels_like': 299.28, 'temp_min': 299.28, 'temp_max': 300.4, 'pressure': 1016, 'sea_level': 1016, 'grnd_level': 1011, 'humidity': 31, 'temp_kf': -1.12}, 'weather': [{'id': 800, 'main': 'Clear', 'description': 'clear sky', 'icon': '01d'}], 'clouds': {'all': 0}, 'wind': {'speed': 5.04, 'deg': 244, 'gust': 4.13}, 'visibility': 10000, 'pop': 0, 'sys': {'pod': 'd'}, 'dt_txt': '2025-02-22 12:00:00'}\n",
      "{'dt': 1740236400, 'main': {'temp': 296.54, 'feels_like': 296.11, 'temp_min': 296.54, 'temp_max': 296.54, 'pressure': 1017, 'sea_level': 1017, 'grnd_level': 1014, 'humidity': 45, 'temp_kf': 0}, 'weather': [{'id': 800, 'main': 'Clear', 'description': 'clear sky', 'icon': '01n'}], 'clouds': {'all': 2}, 'wind': {'speed': 4.08, 'deg': 289, 'gust': 5.15}, 'visibility': 10000, 'pop': 0, 'sys': {'pod': 'n'}, 'dt_txt': '2025-02-22 15:00:00'}\n",
      "{'dt': 1740247200, 'main': {'temp': 295.42, 'feels_like': 295.22, 'temp_min': 295.42, 'temp_max': 295.42, 'pressure': 1017, 'sea_level': 1017, 'grnd_level': 1014, 'humidity': 58, 'temp_kf': 0}, 'weather': [{'id': 801, 'main': 'Clouds', 'description': 'few clouds', 'icon': '02n'}], 'clouds': {'all': 19}, 'wind': {'speed': 3.87, 'deg': 284, 'gust': 4.84}, 'visibility': 10000, 'pop': 0, 'sys': {'pod': 'n'}, 'dt_txt': '2025-02-22 18:00:00'}\n",
      "{'dt': 1740258000, 'main': {'temp': 294.58, 'feels_like': 294.55, 'temp_min': 294.58, 'temp_max': 294.58, 'pressure': 1016, 'sea_level': 1016, 'grnd_level': 1013, 'humidity': 68, 'temp_kf': 0}, 'weather': [{'id': 803, 'main': 'Clouds', 'description': 'broken clouds', 'icon': '04n'}], 'clouds': {'all': 70}, 'wind': {'speed': 4.03, 'deg': 310, 'gust': 5.32}, 'visibility': 10000, 'pop': 0, 'sys': {'pod': 'n'}, 'dt_txt': '2025-02-22 21:00:00'}\n",
      "{'dt': 1740268800, 'main': {'temp': 293.82, 'feels_like': 293.95, 'temp_min': 293.82, 'temp_max': 293.82, 'pressure': 1016, 'sea_level': 1016, 'grnd_level': 1012, 'humidity': 77, 'temp_kf': 0}, 'weather': [{'id': 804, 'main': 'Clouds', 'description': 'overcast clouds', 'icon': '04n'}], 'clouds': {'all': 87}, 'wind': {'speed': 3, 'deg': 320, 'gust': 3.72}, 'visibility': 10000, 'pop': 0, 'sys': {'pod': 'n'}, 'dt_txt': '2025-02-23 00:00:00'}\n",
      "{'dt': 1740279600, 'main': {'temp': 294.47, 'feels_like': 294.62, 'temp_min': 294.47, 'temp_max': 294.47, 'pressure': 1017, 'sea_level': 1017, 'grnd_level': 1014, 'humidity': 75, 'temp_kf': 0}, 'weather': [{'id': 804, 'main': 'Clouds', 'description': 'overcast clouds', 'icon': '04d'}], 'clouds': {'all': 99}, 'wind': {'speed': 2.29, 'deg': 302, 'gust': 3.1}, 'visibility': 10000, 'pop': 0, 'sys': {'pod': 'd'}, 'dt_txt': '2025-02-23 03:00:00'}\n",
      "{'dt': 1740290400, 'main': {'temp': 299.39, 'feels_like': 299.39, 'temp_min': 299.39, 'temp_max': 299.39, 'pressure': 1018, 'sea_level': 1018, 'grnd_level': 1014, 'humidity': 47, 'temp_kf': 0}, 'weather': [{'id': 804, 'main': 'Clouds', 'description': 'overcast clouds', 'icon': '04d'}], 'clouds': {'all': 91}, 'wind': {'speed': 3.06, 'deg': 265, 'gust': 3.56}, 'visibility': 10000, 'pop': 0, 'sys': {'pod': 'd'}, 'dt_txt': '2025-02-23 06:00:00'}\n",
      "{'dt': 1740301200, 'main': {'temp': 301.92, 'feels_like': 301.44, 'temp_min': 301.92, 'temp_max': 301.92, 'pressure': 1015, 'sea_level': 1015, 'grnd_level': 1011, 'humidity': 39, 'temp_kf': 0}, 'weather': [{'id': 802, 'main': 'Clouds', 'description': 'scattered clouds', 'icon': '03d'}], 'clouds': {'all': 38}, 'wind': {'speed': 5.55, 'deg': 246, 'gust': 5.07}, 'visibility': 10000, 'pop': 0, 'sys': {'pod': 'd'}, 'dt_txt': '2025-02-23 09:00:00'}\n",
      "{'dt': 1740312000, 'main': {'temp': 299.94, 'feels_like': 300.11, 'temp_min': 299.94, 'temp_max': 299.94, 'pressure': 1014, 'sea_level': 1014, 'grnd_level': 1011, 'humidity': 45, 'temp_kf': 0}, 'weather': [{'id': 801, 'main': 'Clouds', 'description': 'few clouds', 'icon': '02d'}], 'clouds': {'all': 20}, 'wind': {'speed': 5.96, 'deg': 265, 'gust': 6.25}, 'visibility': 10000, 'pop': 0, 'sys': {'pod': 'd'}, 'dt_txt': '2025-02-23 12:00:00'}\n",
      "{'dt': 1740322800, 'main': {'temp': 296.79, 'feels_like': 296.91, 'temp_min': 296.79, 'temp_max': 296.79, 'pressure': 1016, 'sea_level': 1016, 'grnd_level': 1012, 'humidity': 65, 'temp_kf': 0}, 'weather': [{'id': 802, 'main': 'Clouds', 'description': 'scattered clouds', 'icon': '03n'}], 'clouds': {'all': 29}, 'wind': {'speed': 4.6, 'deg': 259, 'gust': 6.92}, 'visibility': 10000, 'pop': 0, 'sys': {'pod': 'n'}, 'dt_txt': '2025-02-23 15:00:00'}\n",
      "{'dt': 1740333600, 'main': {'temp': 295.81, 'feels_like': 295.99, 'temp_min': 295.81, 'temp_max': 295.81, 'pressure': 1016, 'sea_level': 1016, 'grnd_level': 1013, 'humidity': 71, 'temp_kf': 0}, 'weather': [{'id': 802, 'main': 'Clouds', 'description': 'scattered clouds', 'icon': '03n'}], 'clouds': {'all': 41}, 'wind': {'speed': 2.84, 'deg': 281, 'gust': 3.78}, 'visibility': 10000, 'pop': 0, 'sys': {'pod': 'n'}, 'dt_txt': '2025-02-23 18:00:00'}\n",
      "{'dt': 1740344400, 'main': {'temp': 295.23, 'feels_like': 295.48, 'temp_min': 295.23, 'temp_max': 295.23, 'pressure': 1016, 'sea_level': 1016, 'grnd_level': 1012, 'humidity': 76, 'temp_kf': 0}, 'weather': [{'id': 803, 'main': 'Clouds', 'description': 'broken clouds', 'icon': '04n'}], 'clouds': {'all': 65}, 'wind': {'speed': 3.81, 'deg': 289, 'gust': 5.76}, 'visibility': 10000, 'pop': 0, 'sys': {'pod': 'n'}, 'dt_txt': '2025-02-23 21:00:00'}\n",
      "{'dt': 1740355200, 'main': {'temp': 294.81, 'feels_like': 295.15, 'temp_min': 294.81, 'temp_max': 294.81, 'pressure': 1015, 'sea_level': 1015, 'grnd_level': 1012, 'humidity': 81, 'temp_kf': 0}, 'weather': [{'id': 803, 'main': 'Clouds', 'description': 'broken clouds', 'icon': '04n'}], 'clouds': {'all': 84}, 'wind': {'speed': 3.32, 'deg': 296, 'gust': 4.32}, 'visibility': 10000, 'pop': 0, 'sys': {'pod': 'n'}, 'dt_txt': '2025-02-24 00:00:00'}\n",
      "{'dt': 1740366000, 'main': {'temp': 295.46, 'feels_like': 295.86, 'temp_min': 295.46, 'temp_max': 295.46, 'pressure': 1017, 'sea_level': 1017, 'grnd_level': 1014, 'humidity': 81, 'temp_kf': 0}, 'weather': [{'id': 804, 'main': 'Clouds', 'description': 'overcast clouds', 'icon': '04d'}], 'clouds': {'all': 99}, 'wind': {'speed': 2.39, 'deg': 289, 'gust': 3.67}, 'visibility': 10000, 'pop': 0, 'sys': {'pod': 'd'}, 'dt_txt': '2025-02-24 03:00:00'}\n",
      "{'dt': 1740376800, 'main': {'temp': 300.22, 'feels_like': 300.83, 'temp_min': 300.22, 'temp_max': 300.22, 'pressure': 1018, 'sea_level': 1018, 'grnd_level': 1014, 'humidity': 53, 'temp_kf': 0}, 'weather': [{'id': 803, 'main': 'Clouds', 'description': 'broken clouds', 'icon': '04d'}], 'clouds': {'all': 83}, 'wind': {'speed': 3.69, 'deg': 255, 'gust': 4.01}, 'visibility': 10000, 'pop': 0, 'sys': {'pod': 'd'}, 'dt_txt': '2025-02-24 06:00:00'}\n",
      "{'dt': 1740387600, 'main': {'temp': 301.58, 'feels_like': 301.71, 'temp_min': 301.58, 'temp_max': 301.58, 'pressure': 1015, 'sea_level': 1015, 'grnd_level': 1012, 'humidity': 46, 'temp_kf': 0}, 'weather': [{'id': 804, 'main': 'Clouds', 'description': 'overcast clouds', 'icon': '04d'}], 'clouds': {'all': 100}, 'wind': {'speed': 5.61, 'deg': 255, 'gust': 5.13}, 'visibility': 10000, 'pop': 0, 'sys': {'pod': 'd'}, 'dt_txt': '2025-02-24 09:00:00'}\n",
      "{'dt': 1740398400, 'main': {'temp': 300.28, 'feels_like': 300.69, 'temp_min': 300.28, 'temp_max': 300.28, 'pressure': 1014, 'sea_level': 1014, 'grnd_level': 1011, 'humidity': 50, 'temp_kf': 0}, 'weather': [{'id': 804, 'main': 'Clouds', 'description': 'overcast clouds', 'icon': '04d'}], 'clouds': {'all': 91}, 'wind': {'speed': 6.09, 'deg': 267, 'gust': 6.14}, 'visibility': 10000, 'pop': 0, 'sys': {'pod': 'd'}, 'dt_txt': '2025-02-24 12:00:00'}\n",
      "{'dt': 1740409200, 'main': {'temp': 297.32, 'feels_like': 297.46, 'temp_min': 297.32, 'temp_max': 297.32, 'pressure': 1016, 'sea_level': 1016, 'grnd_level': 1012, 'humidity': 64, 'temp_kf': 0}, 'weather': [{'id': 804, 'main': 'Clouds', 'description': 'overcast clouds', 'icon': '04n'}], 'clouds': {'all': 100}, 'wind': {'speed': 4.11, 'deg': 288, 'gust': 5.98}, 'visibility': 10000, 'pop': 0, 'sys': {'pod': 'n'}, 'dt_txt': '2025-02-24 15:00:00'}\n",
      "{'dt': 1740420000, 'main': {'temp': 296.51, 'feels_like': 296.65, 'temp_min': 296.51, 'temp_max': 296.51, 'pressure': 1017, 'sea_level': 1017, 'grnd_level': 1013, 'humidity': 67, 'temp_kf': 0}, 'weather': [{'id': 804, 'main': 'Clouds', 'description': 'overcast clouds', 'icon': '04n'}], 'clouds': {'all': 100}, 'wind': {'speed': 3.03, 'deg': 283, 'gust': 3.45}, 'visibility': 10000, 'pop': 0, 'sys': {'pod': 'n'}, 'dt_txt': '2025-02-24 18:00:00'}\n",
      "{'dt': 1740430800, 'main': {'temp': 296.04, 'feels_like': 296.11, 'temp_min': 296.04, 'temp_max': 296.04, 'pressure': 1015, 'sea_level': 1015, 'grnd_level': 1011, 'humidity': 66, 'temp_kf': 0}, 'weather': [{'id': 804, 'main': 'Clouds', 'description': 'overcast clouds', 'icon': '04n'}], 'clouds': {'all': 100}, 'wind': {'speed': 2.75, 'deg': 270, 'gust': 3.02}, 'visibility': 10000, 'pop': 0, 'sys': {'pod': 'n'}, 'dt_txt': '2025-02-24 21:00:00'}\n",
      "{'dt': 1740441600, 'main': {'temp': 295.59, 'feels_like': 295.67, 'temp_min': 295.59, 'temp_max': 295.59, 'pressure': 1015, 'sea_level': 1015, 'grnd_level': 1011, 'humidity': 68, 'temp_kf': 0}, 'weather': [{'id': 804, 'main': 'Clouds', 'description': 'overcast clouds', 'icon': '04n'}], 'clouds': {'all': 100}, 'wind': {'speed': 3.83, 'deg': 291, 'gust': 4.83}, 'visibility': 10000, 'pop': 0, 'sys': {'pod': 'n'}, 'dt_txt': '2025-02-25 00:00:00'}\n",
      "{'dt': 1740452400, 'main': {'temp': 296.01, 'feels_like': 296.07, 'temp_min': 296.01, 'temp_max': 296.01, 'pressure': 1016, 'sea_level': 1016, 'grnd_level': 1013, 'humidity': 66, 'temp_kf': 0}, 'weather': [{'id': 804, 'main': 'Clouds', 'description': 'overcast clouds', 'icon': '04d'}], 'clouds': {'all': 100}, 'wind': {'speed': 3.28, 'deg': 308, 'gust': 4.87}, 'visibility': 10000, 'pop': 0, 'sys': {'pod': 'd'}, 'dt_txt': '2025-02-25 03:00:00'}\n",
      "{'dt': 1740463200, 'main': {'temp': 301.05, 'feels_like': 300.73, 'temp_min': 301.05, 'temp_max': 301.05, 'pressure': 1017, 'sea_level': 1017, 'grnd_level': 1014, 'humidity': 40, 'temp_kf': 0}, 'weather': [{'id': 804, 'main': 'Clouds', 'description': 'overcast clouds', 'icon': '04d'}], 'clouds': {'all': 100}, 'wind': {'speed': 4.35, 'deg': 279, 'gust': 4.77}, 'visibility': 10000, 'pop': 0, 'sys': {'pod': 'd'}, 'dt_txt': '2025-02-25 06:00:00'}\n",
      "{'dt': 1740474000, 'main': {'temp': 302.99, 'feels_like': 302.07, 'temp_min': 302.99, 'temp_max': 302.99, 'pressure': 1015, 'sea_level': 1015, 'grnd_level': 1011, 'humidity': 34, 'temp_kf': 0}, 'weather': [{'id': 803, 'main': 'Clouds', 'description': 'broken clouds', 'icon': '04d'}], 'clouds': {'all': 81}, 'wind': {'speed': 5.81, 'deg': 265, 'gust': 5.72}, 'visibility': 10000, 'pop': 0, 'sys': {'pod': 'd'}, 'dt_txt': '2025-02-25 09:00:00'}\n",
      "{'dt': 1740484800, 'main': {'temp': 301.27, 'feels_like': 300.66, 'temp_min': 301.27, 'temp_max': 301.27, 'pressure': 1014, 'sea_level': 1014, 'grnd_level': 1010, 'humidity': 36, 'temp_kf': 0}, 'weather': [{'id': 803, 'main': 'Clouds', 'description': 'broken clouds', 'icon': '04d'}], 'clouds': {'all': 64}, 'wind': {'speed': 5.9, 'deg': 261, 'gust': 6.04}, 'visibility': 10000, 'pop': 0, 'sys': {'pod': 'd'}, 'dt_txt': '2025-02-25 12:00:00'}\n",
      "{'dt': 1740495600, 'main': {'temp': 297.39, 'feels_like': 297.36, 'temp_min': 297.39, 'temp_max': 297.39, 'pressure': 1016, 'sea_level': 1016, 'grnd_level': 1012, 'humidity': 57, 'temp_kf': 0}, 'weather': [{'id': 803, 'main': 'Clouds', 'description': 'broken clouds', 'icon': '04n'}], 'clouds': {'all': 71}, 'wind': {'speed': 4.78, 'deg': 259, 'gust': 7.02}, 'visibility': 10000, 'pop': 0, 'sys': {'pod': 'n'}, 'dt_txt': '2025-02-25 15:00:00'}\n",
      "{'dt': 1740506400, 'main': {'temp': 296.2, 'feels_like': 296.26, 'temp_min': 296.2, 'temp_max': 296.2, 'pressure': 1017, 'sea_level': 1017, 'grnd_level': 1013, 'humidity': 65, 'temp_kf': 0}, 'weather': [{'id': 803, 'main': 'Clouds', 'description': 'broken clouds', 'icon': '04n'}], 'clouds': {'all': 60}, 'wind': {'speed': 4.89, 'deg': 292, 'gust': 8.09}, 'visibility': 10000, 'pop': 0, 'sys': {'pod': 'n'}, 'dt_txt': '2025-02-25 18:00:00'}\n",
      "{'dt': 1740517200, 'main': {'temp': 295.59, 'feels_like': 295.64, 'temp_min': 295.59, 'temp_max': 295.59, 'pressure': 1015, 'sea_level': 1015, 'grnd_level': 1011, 'humidity': 67, 'temp_kf': 0}, 'weather': [{'id': 804, 'main': 'Clouds', 'description': 'overcast clouds', 'icon': '04n'}], 'clouds': {'all': 100}, 'wind': {'speed': 4.72, 'deg': 290, 'gust': 7.73}, 'visibility': 10000, 'pop': 0, 'sys': {'pod': 'n'}, 'dt_txt': '2025-02-25 21:00:00'}\n",
      "{'dt': 1740528000, 'main': {'temp': 294.99, 'feels_like': 295.03, 'temp_min': 294.99, 'temp_max': 294.99, 'pressure': 1015, 'sea_level': 1015, 'grnd_level': 1011, 'humidity': 69, 'temp_kf': 0}, 'weather': [{'id': 804, 'main': 'Clouds', 'description': 'overcast clouds', 'icon': '04n'}], 'clouds': {'all': 91}, 'wind': {'speed': 3.97, 'deg': 281, 'gust': 4.89}, 'visibility': 10000, 'pop': 0, 'sys': {'pod': 'n'}, 'dt_txt': '2025-02-26 00:00:00'}\n",
      "{'dt': 1740538800, 'main': {'temp': 295.49, 'feels_like': 295.61, 'temp_min': 295.49, 'temp_max': 295.49, 'pressure': 1016, 'sea_level': 1016, 'grnd_level': 1013, 'humidity': 70, 'temp_kf': 0}, 'weather': [{'id': 802, 'main': 'Clouds', 'description': 'scattered clouds', 'icon': '03d'}], 'clouds': {'all': 42}, 'wind': {'speed': 3.96, 'deg': 288, 'gust': 7.1}, 'visibility': 10000, 'pop': 0, 'sys': {'pod': 'd'}, 'dt_txt': '2025-02-26 03:00:00'}\n",
      "{'dt': 1740549600, 'main': {'temp': 300.54, 'feels_like': 300.55, 'temp_min': 300.54, 'temp_max': 300.54, 'pressure': 1017, 'sea_level': 1017, 'grnd_level': 1014, 'humidity': 44, 'temp_kf': 0}, 'weather': [{'id': 802, 'main': 'Clouds', 'description': 'scattered clouds', 'icon': '03d'}], 'clouds': {'all': 50}, 'wind': {'speed': 5.83, 'deg': 268, 'gust': 6.7}, 'visibility': 10000, 'pop': 0, 'sys': {'pod': 'd'}, 'dt_txt': '2025-02-26 06:00:00'}\n",
      "{'dt': 1740560400, 'main': {'temp': 301.24, 'feels_like': 301.43, 'temp_min': 301.24, 'temp_max': 301.24, 'pressure': 1014, 'sea_level': 1014, 'grnd_level': 1010, 'humidity': 47, 'temp_kf': 0}, 'weather': [{'id': 803, 'main': 'Clouds', 'description': 'broken clouds', 'icon': '04d'}], 'clouds': {'all': 66}, 'wind': {'speed': 6.49, 'deg': 259, 'gust': 6.87}, 'visibility': 10000, 'pop': 0, 'sys': {'pod': 'd'}, 'dt_txt': '2025-02-26 09:00:00'}\n",
      "{'dt': 1740571200, 'main': {'temp': 299.49, 'feels_like': 299.49, 'temp_min': 299.49, 'temp_max': 299.49, 'pressure': 1013, 'sea_level': 1013, 'grnd_level': 1009, 'humidity': 59, 'temp_kf': 0}, 'weather': [{'id': 803, 'main': 'Clouds', 'description': 'broken clouds', 'icon': '04d'}], 'clouds': {'all': 55}, 'wind': {'speed': 6.43, 'deg': 252, 'gust': 7}, 'visibility': 10000, 'pop': 0, 'sys': {'pod': 'd'}, 'dt_txt': '2025-02-26 12:00:00'}\n",
      "{'dt': 1740582000, 'main': {'temp': 296.65, 'feels_like': 297.17, 'temp_min': 296.65, 'temp_max': 296.65, 'pressure': 1014, 'sea_level': 1014, 'grnd_level': 1011, 'humidity': 81, 'temp_kf': 0}, 'weather': [{'id': 802, 'main': 'Clouds', 'description': 'scattered clouds', 'icon': '03n'}], 'clouds': {'all': 34}, 'wind': {'speed': 5.06, 'deg': 249, 'gust': 7.42}, 'visibility': 10000, 'pop': 0, 'sys': {'pod': 'n'}, 'dt_txt': '2025-02-26 15:00:00'}\n",
      "{'dt': 1740592800, 'main': {'temp': 296, 'feels_like': 296.61, 'temp_min': 296, 'temp_max': 296, 'pressure': 1015, 'sea_level': 1015, 'grnd_level': 1011, 'humidity': 87, 'temp_kf': 0}, 'weather': [{'id': 802, 'main': 'Clouds', 'description': 'scattered clouds', 'icon': '03n'}], 'clouds': {'all': 25}, 'wind': {'speed': 4.87, 'deg': 269, 'gust': 8.5}, 'visibility': 10000, 'pop': 0, 'sys': {'pod': 'n'}, 'dt_txt': '2025-02-26 18:00:00'}\n",
      "{'dt': 1740603600, 'main': {'temp': 295.5, 'feels_like': 296.09, 'temp_min': 295.5, 'temp_max': 295.5, 'pressure': 1013, 'sea_level': 1013, 'grnd_level': 1010, 'humidity': 88, 'temp_kf': 0}, 'weather': [{'id': 801, 'main': 'Clouds', 'description': 'few clouds', 'icon': '02n'}], 'clouds': {'all': 12}, 'wind': {'speed': 4.79, 'deg': 276, 'gust': 8.82}, 'visibility': 10000, 'pop': 0, 'sys': {'pod': 'n'}, 'dt_txt': '2025-02-26 21:00:00'}\n",
      "{'dt': 1740614400, 'main': {'temp': 294.94, 'feels_like': 295.5, 'temp_min': 294.94, 'temp_max': 294.94, 'pressure': 1013, 'sea_level': 1013, 'grnd_level': 1009, 'humidity': 89, 'temp_kf': 0}, 'weather': [{'id': 802, 'main': 'Clouds', 'description': 'scattered clouds', 'icon': '03n'}], 'clouds': {'all': 36}, 'wind': {'speed': 4.56, 'deg': 274, 'gust': 7.97}, 'visibility': 10000, 'pop': 0, 'sys': {'pod': 'n'}, 'dt_txt': '2025-02-27 00:00:00'}\n",
      "{'dt': 1740625200, 'main': {'temp': 295.7, 'feels_like': 296.18, 'temp_min': 295.7, 'temp_max': 295.7, 'pressure': 1014, 'sea_level': 1014, 'grnd_level': 1010, 'humidity': 83, 'temp_kf': 0}, 'weather': [{'id': 803, 'main': 'Clouds', 'description': 'broken clouds', 'icon': '04d'}], 'clouds': {'all': 69}, 'wind': {'speed': 5.17, 'deg': 267, 'gust': 8.89}, 'visibility': 10000, 'pop': 0, 'sys': {'pod': 'd'}, 'dt_txt': '2025-02-27 03:00:00'}\n"
     ]
    }
   ],
   "source": [
    "import datetime as dt\n",
    "import requests\n",
    "\n",
    "\n",
    "base_url = \"http://api.openweathermap.org/data/2.5/forecast?\"\n",
    "api_key = \"56facac7d7a894254033f3692862b5ca\"\n",
    "city = \"Karachi\"\n",
    "\n",
    "url = base_url + \"appid=\" + api_key + \"&q=\" + city\n",
    "\n",
    "response = requests.get(url).json()\n",
    "\n",
    "for i in response[\"list\"]:\n",
    "    print(i)\n",
    "\n",
    "\n"
   ]
  },
  {
   "cell_type": "code",
   "execution_count": null,
   "id": "1176c850-5810-4f14-9a8b-5f306fd1df04",
   "metadata": {},
   "outputs": [],
   "source": []
  },
  {
   "cell_type": "code",
   "execution_count": 3,
   "id": "1f1ca200-c3aa-4c2c-9922-61c389de71c4",
   "metadata": {},
   "outputs": [
    {
     "name": "stdout",
     "output_type": "stream",
     "text": [
      "297.05\n",
      "298.44\n",
      "299.28\n",
      "296.54\n",
      "295.42\n",
      "294.58\n",
      "293.82\n",
      "294.47\n",
      "299.39\n",
      "301.92\n",
      "299.94\n",
      "296.79\n",
      "295.81\n",
      "295.23\n",
      "294.81\n",
      "295.46\n",
      "300.22\n",
      "301.58\n",
      "300.28\n",
      "297.32\n",
      "296.51\n",
      "296.04\n",
      "295.59\n",
      "296.01\n",
      "301.05\n",
      "302.99\n",
      "301.27\n",
      "297.39\n",
      "296.2\n",
      "295.59\n",
      "294.99\n",
      "295.49\n",
      "300.54\n",
      "301.24\n",
      "299.49\n",
      "296.65\n",
      "296\n",
      "295.5\n",
      "294.94\n",
      "295.7\n"
     ]
    }
   ],
   "source": [
    "for i in response[\"list\"]:\n",
    "    print(i[\"main\"][\"temp\"])\n",
    "    "
   ]
  },
  {
   "cell_type": "code",
   "execution_count": 25,
   "id": "bda7313c-4d7b-4bde-afaf-08ffe2a27d78",
   "metadata": {},
   "outputs": [
    {
     "data": {
      "text/plain": [
       "'2025-02-22'"
      ]
     },
     "execution_count": 25,
     "metadata": {},
     "output_type": "execute_result"
    }
   ],
   "source": [
    "date = reponse[\"list\"][0][\"dt_txt\"].split()[0]\n",
    "date"
   ]
  },
  {
   "cell_type": "code",
   "execution_count": 29,
   "id": "1271b88a-9248-4b3c-8315-da3abf377e73",
   "metadata": {},
   "outputs": [
    {
     "data": {
      "text/plain": [
       "'06:00:00'"
      ]
     },
     "execution_count": 29,
     "metadata": {},
     "output_type": "execute_result"
    }
   ],
   "source": [
    "time = reponse[\"list\"][0][\"dt_txt\"].split()[1]\n",
    "time"
   ]
  },
  {
   "cell_type": "code",
   "execution_count": 32,
   "id": "ba745e03-b7fb-4b88-83ec-9a70f292a757",
   "metadata": {},
   "outputs": [],
   "source": [
    "temp = reponse[\"list\"][0][\"main\"][\"temp\"]"
   ]
  },
  {
   "cell_type": "code",
   "execution_count": 37,
   "id": "013133aa-82a7-4ebb-82f9-0e9d72117a3f",
   "metadata": {},
   "outputs": [],
   "source": [
    "humidity = reponse[\"list\"][0][\"main\"][\"humidity\"]"
   ]
  },
  {
   "cell_type": "code",
   "execution_count": 40,
   "id": "72b9d030-2805-477e-b5c5-21f4b8122d52",
   "metadata": {},
   "outputs": [],
   "source": [
    "# condition\n",
    "condition = reponse[\"list\"][1][\"weather\"][0][\"main\"]"
   ]
  },
  {
   "cell_type": "code",
   "execution_count": 41,
   "id": "a8613043-8def-4dcb-ab24-ee2a76b0fae8",
   "metadata": {},
   "outputs": [],
   "source": [
    "# description\n",
    "reponse[\"list\"][1][\"weather\"][0][\"descrition\"]"
   ]
  },
  {
   "cell_type": "code",
   "execution_count": 44,
   "id": "483b2be2-7fda-4311-aac4-c323efb9dbbf",
   "metadata": {},
   "outputs": [
    {
     "data": {
      "text/plain": [
       "0"
      ]
     },
     "execution_count": 44,
     "metadata": {},
     "output_type": "execute_result"
    }
   ],
   "source": [
    "# cloud_coverage\n",
    "cloud_coverage = reponse[\"list\"][1][\"clouds\"][\"all\"]"
   ]
  },
  {
   "cell_type": "code",
   "execution_count": 46,
   "id": "ce49e438-b2de-46c6-9951-c8ffbabe7060",
   "metadata": {},
   "outputs": [],
   "source": [
    "# wind\n",
    "wind = reponse[\"list\"][1][\"wind\"][\"speed\"]"
   ]
  },
  {
   "cell_type": "code",
   "execution_count": null,
   "id": "108e8e82-784e-496b-907c-6812859233b3",
   "metadata": {},
   "outputs": [],
   "source": []
  }
 ],
 "metadata": {
  "kernelspec": {
   "display_name": "Python 3 (ipykernel)",
   "language": "python",
   "name": "python3"
  },
  "language_info": {
   "codemirror_mode": {
    "name": "ipython",
    "version": 3
   },
   "file_extension": ".py",
   "mimetype": "text/x-python",
   "name": "python",
   "nbconvert_exporter": "python",
   "pygments_lexer": "ipython3",
   "version": "3.12.7"
  }
 },
 "nbformat": 4,
 "nbformat_minor": 5
}
