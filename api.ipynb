{
 "cells": [
  {
   "cell_type": "code",
   "execution_count": 1,
   "id": "2b5c0253-1b8b-421c-aa44-7f5a5046a5f1",
   "metadata": {},
   "outputs": [],
   "source": [
    "import datetime as dt\n",
    "import requests\n",
    "import pandas as pd\n",
    "import boto3\n",
    "from io import StringIO \n",
    "\n",
    "\n",
    "base_url = \"http://api.openweathermap.org/data/2.5/forecast?\"\n",
    "api_key = \"56facac7d7a894254033f3692862b5ca\"\n",
    "city = \"Karachi\"\n",
    "\n",
    "url = base_url + \"appid=\" + api_key + \"&q=\" + city\n",
    "\n",
    "response = requests.get(url).json()\n",
    "\n"
   ]
  },
  {
   "cell_type": "code",
   "execution_count": 2,
   "id": "1f1ca200-c3aa-4c2c-9922-61c389de71c4",
   "metadata": {},
   "outputs": [],
   "source": [
    "date = []\n",
    "time = []\n",
    "temprature = []\n",
    "weather = []\n",
    "humidity = []\n",
    "wind_spd = []\n",
    "clouds = []\n",
    "\n",
    "for i in response[\"list\"]:\n",
    "    temprature.append(i[\"main\"][\"temp\"]-273.15)\n",
    "    date.append(i[\"dt_txt\"].split()[0])\n",
    "    time.append(i[\"dt_txt\"].split()[1])\n",
    "    humidity.append(i[\"main\"][\"humidity\"])\n",
    "    weather.append(i[\"weather\"][0][\"main\"])\n",
    "    clouds.append(i[\"clouds\"][\"all\"])\n",
    "    wind_spd.append(i[\"wind\"][\"speed\"])\n",
    "\n",
    "dict = {\n",
    "    \"temprature\": temprature,\n",
    "    \"date\": date,\n",
    "    \"time\": time,\n",
    "    \"humidity\": humidity,\n",
    "    \"condition\": weather,\n",
    "    \"cloud_coverage\": clouds,\n",
    "    \"wind\": wind_spd\n",
    "}\n",
    "    \n",
    "    "
   ]
  },
  {
   "cell_type": "code",
   "execution_count": 3,
   "id": "27201c8c-4721-4bb8-acf2-1ee923b3590f",
   "metadata": {},
   "outputs": [],
   "source": [
    "df = pd.DataFrame(dict)"
   ]
  },
  {
   "cell_type": "code",
   "execution_count": 4,
   "id": "108e8e82-784e-496b-907c-6812859233b3",
   "metadata": {},
   "outputs": [],
   "source": [
    "csv_buffer = StringIO()\n",
    "df.to_csv(csv_buffer)\n",
    "csv_buffer.seek(0)\n",
    "\n",
    "filename = \"temp.csv\"\n",
    "bucketname = \"kabir-practice-bucket\"\n",
    "client = boto3.client('s3')\n",
    "\n",
    "\n",
    "response = client.put_object( \n",
    "    ACL='private', \n",
    "    Body=csv_buffer.getvalue(), \n",
    "    Bucket=bucketname, \n",
    "    Key=filename \n",
    ")"
   ]
  },
  {
   "cell_type": "code",
   "execution_count": null,
   "id": "3d770a4d-16d8-4c99-b16a-a9e1aeff87a9",
   "metadata": {},
   "outputs": [],
   "source": []
  },
  {
   "cell_type": "code",
   "execution_count": null,
   "id": "3d636907-1bcd-4864-b0c6-7eb77f497091",
   "metadata": {},
   "outputs": [],
   "source": []
  }
 ],
 "metadata": {
  "kernelspec": {
   "display_name": "Python 3 (ipykernel)",
   "language": "python",
   "name": "python3"
  },
  "language_info": {
   "codemirror_mode": {
    "name": "ipython",
    "version": 3
   },
   "file_extension": ".py",
   "mimetype": "text/x-python",
   "name": "python",
   "nbconvert_exporter": "python",
   "pygments_lexer": "ipython3",
   "version": "3.12.7"
  }
 },
 "nbformat": 4,
 "nbformat_minor": 5
}
